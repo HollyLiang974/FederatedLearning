{
 "cells": [
  {
   "cell_type": "markdown",
   "id": "continent-climb",
   "metadata": {},
   "source": [
    "# Part 1: Launch a Duet Server and upload data"
   ]
  },
  {
   "cell_type": "code",
   "execution_count": null,
   "id": "parental-classics",
   "metadata": {},
   "outputs": [],
   "source": [
    "#引入相关依赖\n",
    "from sklearn import datasets\n",
    "from sklearn.preprocessing import MinMaxScaler\n",
    "from sklearn.model_selection import train_test_split\n",
    "import torch as th\n",
    "import torch.nn as nn\n",
    "import pandas as pd\n",
    "import warnings\n",
    "#忽略警告\n",
    "warnings.filterwarnings('ignore')\n",
    "import syft as sy\n",
    "duet = sy.launch_duet(loopback=True,network_url=\"http://localhost:5000/\")"
   ]
  },
  {
   "cell_type": "code",
   "execution_count": null,
   "id": "5d04b578",
   "metadata": {},
   "outputs": [],
   "source": [
    "import torch\n",
    "data= datasets.load_breast_cancer()\n",
    "X = data.data\n",
    "y = data.target\n",
    "\n",
    "data_df = pd.DataFrame(data.data, columns=data.feature_names)\n",
    "data_df['result'] = data.target\n",
    "X=MinMaxScaler().fit_transform(X)\n",
    "data_df = pd.DataFrame(X, columns=data.feature_names)\n",
    "\n",
    "X_train, X_test, y_train, y_test = train_test_split(X, y, random_state = 0)\n",
    "\n",
    "X=torch.tensor(X_train,dtype=torch.float32)\n",
    "y=torch.tensor(y_train,dtype=torch.float32)\n",
    "y = y.view(y.shape[0],1)\n",
    "\n"
   ]
  },
  {
   "cell_type": "code",
   "execution_count": null,
   "id": "86d20b53",
   "metadata": {},
   "outputs": [],
   "source": [
    "# X = th.FloatTensor(X)\n",
    "# y = th.FloatTensor(y)\n",
    "\n",
    "X = X.tag(\"breast_cancer-data\")\n",
    "y = y.tag(\"breast_cancer-target\")\n",
    "\n",
    "X = X.describe(\n",
    "    \"这是威斯康星洲临床科学中心开元的乳腺癌肿瘤数据集，共30维的特征数据\"\n",
    ")\n",
    "y = y.describe(\"这是数据标签，1代表良性肿瘤，0代表恶性肿瘤\")\n",
    "\n",
    "data_pointer = X.send(duet, searchable=True)\n",
    "target_pointer = y.send(duet, searchable=True)\n",
    "\n"
   ]
  },
  {
   "cell_type": "code",
   "execution_count": null,
   "id": "0397a137",
   "metadata": {},
   "outputs": [],
   "source": [
    "duet.store.pandas"
   ]
  },
  {
   "cell_type": "code",
   "execution_count": null,
   "id": "thousand-borough",
   "metadata": {},
   "outputs": [],
   "source": [
    "duet.requests.add_handler(\n",
    "    action=\"accept\",\n",
    "    print_local=True,  # print the result in your notebook\n",
    ")"
   ]
  }
 ],
 "metadata": {
  "kernelspec": {
   "display_name": "Python 3 (ipykernel)",
   "language": "python",
   "name": "python3"
  },
  "language_info": {
   "codemirror_mode": {
    "name": "ipython",
    "version": 3
   },
   "file_extension": ".py",
   "mimetype": "text/x-python",
   "name": "python",
   "nbconvert_exporter": "python",
   "pygments_lexer": "ipython3",
   "version": "3.9.13"
  }
 },
 "nbformat": 4,
 "nbformat_minor": 5
}
