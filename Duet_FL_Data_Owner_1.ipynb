{
 "cells": [
  {
   "cell_type": "markdown",
   "id": "continent-climb",
   "metadata": {},
   "source": [
    "# Part 1: Launch a Duet Server and upload data"
   ]
  },
  {
   "cell_type": "code",
   "execution_count": 1,
   "id": "parental-classics",
   "metadata": {},
   "outputs": [
    {
     "name": "stdout",
     "output_type": "stream",
     "text": [
      "🎤  🎸  ♪♪♪ Starting Duet ♫♫♫  🎻  🎹\n",
      "\n",
      "♫♫♫ >\u001b[93m DISCLAIMER\u001b[0m: \u001b[1mDuet is an experimental feature currently in beta.\n",
      "♫♫♫ > Use at your own risk.\n",
      "\u001b[0m\n",
      "\u001b[1m\n",
      "    > ❤️ \u001b[91mLove\u001b[0m \u001b[92mDuet\u001b[0m? \u001b[93mPlease\u001b[0m \u001b[94mconsider\u001b[0m \u001b[95msupporting\u001b[0m \u001b[91mour\u001b[0m \u001b[93mcommunity!\u001b[0m\n",
      "    > https://github.com/sponsors/OpenMined\u001b[1m\n",
      "\n",
      "♫♫♫ > Punching through firewall to OpenGrid Network Node at:\n",
      "♫♫♫ > http://localhost:5000/\n",
      "♫♫♫ >\n",
      "♫♫♫ > ...waiting for response from OpenGrid Network... \n",
      "♫♫♫ > \u001b[92mDONE!\u001b[0m\n",
      "\n",
      "♫♫♫ > \u001b[95mSTEP 1:\u001b[0m Send the following code to your Duet Partner!\n",
      "\n",
      "import syft as sy\n",
      "duet = sy.join_duet(loopback=True)\n",
      "\n",
      "♫♫♫ > Connecting...\n",
      "\n",
      "♫♫♫ > \u001b[92mCONNECTED!\u001b[0m\n",
      "\n",
      "♫♫♫ > DUET LIVE STATUS  *  Objects: 10  Requests: 0   Messages: 289  Request Handlers: 1                                                         \r"
     ]
    }
   ],
   "source": [
    "#引入相关依赖\n",
    "from sklearn import datasets\n",
    "from sklearn.preprocessing import MinMaxScaler\n",
    "from sklearn.model_selection import train_test_split\n",
    "import torch as th\n",
    "import torch.nn as nn\n",
    "import pandas as pd\n",
    "import warnings\n",
    "#忽略警告\n",
    "warnings.filterwarnings('ignore')\n",
    "import syft as sy\n",
    "duet = sy.launch_duet(loopback=True,network_url=\"http://localhost:5000/\")"
   ]
  },
  {
   "cell_type": "code",
   "execution_count": 2,
   "id": "9fa07eed",
   "metadata": {},
   "outputs": [],
   "source": [
    "import torch\n",
    "data= datasets.load_breast_cancer()\n",
    "X = data.data\n",
    "y = data.target\n",
    "\n",
    "data_df = pd.DataFrame(data.data, columns=data.feature_names)\n",
    "data_df['result'] = data.target\n",
    "X=MinMaxScaler().fit_transform(X)\n",
    "data_df = pd.DataFrame(X, columns=data.feature_names)\n",
    "\n",
    "X_train, X_test, y_train, y_test = train_test_split(X, y, random_state = 0)\n",
    "\n",
    "X=torch.tensor(X_train,dtype=torch.float32)\n",
    "y=torch.tensor(y_train,dtype=torch.float32)\n",
    "y = y.view(y.shape[0],1)\n",
    "\n"
   ]
  },
  {
   "cell_type": "code",
   "execution_count": 3,
   "id": "19ab7473",
   "metadata": {},
   "outputs": [
    {
     "name": "stdout",
     "output_type": "stream",
     "text": [
      "`searchable` is deprecated please use `pointable` in future\n",
      "`searchable` is deprecated please use `pointable` in future\n"
     ]
    }
   ],
   "source": [
    "# X = th.FloatTensor(X)\n",
    "# y = th.FloatTensor(y)\n",
    "\n",
    "X = X.tag(\"breast_cancer-data\")\n",
    "y = y.tag(\"breast_cancer-target\")\n",
    "\n",
    "X = X.describe(\n",
    "    \"这是威斯康星洲临床科学中心开元的乳腺癌肿瘤数据集，共30维的特征数据\"\n",
    ")\n",
    "y = y.describe(\"这是数据标签，1代表良性肿瘤，0代表恶性肿瘤\")\n",
    "\n",
    "data_pointer = X.send(duet, searchable=True)\n",
    "target_pointer = y.send(duet, searchable=True)\n",
    "\n"
   ]
  },
  {
   "cell_type": "code",
   "execution_count": null,
   "id": "9ac0e173",
   "metadata": {},
   "outputs": [],
   "source": []
  },
  {
   "cell_type": "code",
   "execution_count": 4,
   "id": "2d2edafd",
   "metadata": {},
   "outputs": [
    {
     "data": {
      "text/html": [
       "<div>\n",
       "<style scoped>\n",
       "    .dataframe tbody tr th:only-of-type {\n",
       "        vertical-align: middle;\n",
       "    }\n",
       "\n",
       "    .dataframe tbody tr th {\n",
       "        vertical-align: top;\n",
       "    }\n",
       "\n",
       "    .dataframe thead th {\n",
       "        text-align: right;\n",
       "    }\n",
       "</style>\n",
       "<table border=\"1\" class=\"dataframe\">\n",
       "  <thead>\n",
       "    <tr style=\"text-align: right;\">\n",
       "      <th></th>\n",
       "      <th>ID</th>\n",
       "      <th>Tags</th>\n",
       "      <th>Description</th>\n",
       "      <th>object_type</th>\n",
       "    </tr>\n",
       "  </thead>\n",
       "  <tbody>\n",
       "    <tr>\n",
       "      <th>0</th>\n",
       "      <td>&lt;UID: 2e8eea1659ee4107b2effa8442b71063&gt;</td>\n",
       "      <td>[breast_cancer-data]</td>\n",
       "      <td>这是威斯康星洲临床科学中心开元的乳腺癌肿瘤数据集，共30维的特征数据</td>\n",
       "      <td>&lt;class 'torch.Tensor'&gt;</td>\n",
       "    </tr>\n",
       "    <tr>\n",
       "      <th>1</th>\n",
       "      <td>&lt;UID: 73731e7e73834f598f26e922cb58040d&gt;</td>\n",
       "      <td>[breast_cancer-target]</td>\n",
       "      <td>这是数据标签，1代表良性肿瘤，0代表恶性肿瘤</td>\n",
       "      <td>&lt;class 'torch.Tensor'&gt;</td>\n",
       "    </tr>\n",
       "  </tbody>\n",
       "</table>\n",
       "</div>"
      ],
      "text/plain": [
       "                                        ID                    Tags  \\\n",
       "0  <UID: 2e8eea1659ee4107b2effa8442b71063>    [breast_cancer-data]   \n",
       "1  <UID: 73731e7e73834f598f26e922cb58040d>  [breast_cancer-target]   \n",
       "\n",
       "                          Description             object_type  \n",
       "0  这是威斯康星洲临床科学中心开元的乳腺癌肿瘤数据集，共30维的特征数据  <class 'torch.Tensor'>  \n",
       "1              这是数据标签，1代表良性肿瘤，0代表恶性肿瘤  <class 'torch.Tensor'>  "
      ]
     },
     "execution_count": 4,
     "metadata": {},
     "output_type": "execute_result"
    }
   ],
   "source": [
    "duet.store.pandas"
   ]
  },
  {
   "cell_type": "code",
   "execution_count": 5,
   "id": "thousand-borough",
   "metadata": {},
   "outputs": [
    {
     "name": "stderr",
     "output_type": "stream",
     "text": [
      "[2023-01-12T21:33:46.030427+0800][CRITICAL][logger]][17033] > HANDLER Request <UID: 39d486d2aefe476cbb3aa293e7de987d>: To evaluate training progress\n",
      "Value: <Storable: 0.7223365902900696>\n",
      "[2023-01-12T21:38:16.583341+0800][CRITICAL][logger]][17033] > HANDLER Request <UID: dc02975f00de44ef860e41e58ce18f55>: To evaluate training progress\n",
      "Value: <Storable: 0.7088242173194885>\n",
      "[2023-01-12T21:38:17.679177+0800][CRITICAL][logger]][17033] > HANDLER Request <UID: 66975c4537494dba9b5579b602df962f>: To run test and inference locally\n",
      "Value: <Storable: 'in_features=30, out_features=10, bias=True'>\n",
      "[2023-01-12T21:38:17.803943+0800][CRITICAL][logger]][17033] > HANDLER Request <UID: 735a0a0239fa48cdbaf85158e60f46bc>: To run test and inference locally\n",
      "Value: <Storable: OrderedDict([('weight', tensor([[ 9.6608e-02, -5.1157e-02, -1.8347e-02, 1.6266e-02, 1.3831e-01,     8.9034e-02, 5.4407e-02, 1.9091e-01, 1.6645e-03, 8.7988e-02,     1.1581e-01, -7.3454e-02, -1.6223e-01, 7.2337e-02, 8.2414e-02,     1.0669e-01, -2.7724e-02, 1.0511e-01, -1.4210e-02, -2.3495e-02,     5.1387e-02, 1.5792e-01, -1.2926e-01, -1.0557e-01, 6.8907e-02,     1.1229e-01, -8.8312e-02, -9.2087e-02, 7.3883e-03, 1.0006e-01],    [-9.3262e-02, -1.6016e-01, -1.0602e-01, 1.4449e-01, 3.0805e-02,     -1.4653e-01, -2.5704e-02, -1.5660e-01, -1.5962e-01, -1.4365e-01,     1.4963e-01, 1.2346e-01, 2.4418e-02, -1.1701e-01, 1.6136e-02,     8.2756e-02, 2.3091e-02, -2.4445e-03, 1.2075e-01, -2.4903e-02,     1.1766e-03, 1.0520e-02, 6.5281e-02, 1.7920e-01, -1.2672e-01,     -1.4758e-01, 8.4731e-02, 1.7454e-02, -5.6185e-02, 9.7632e-02],    [-6.6185e-02, 3.6459e-02, 1.0461e-01, -7.9479e-03, -2.6841e-02,     -8.7737e-02, 9.6936e-02, -1.5931e-01, -4.2407e-02, 7.6101e-02,     1.4548e-01, -9.7834e-02, -1.4181e-01, 1.9670e-01, -1.0357e-01,     8.7957e-02, 3.4662e-02, -2.3084e-02, 1.4691e-01, -2.8823e-02,     5.3670e-02, 2.8864e-02, -7.3655e-02, 1.1269e-01, 1.4792e-01,     9.8108e-02, -4.5830e-02, 1.1760e-01, 8.1423e-02, -9.1258e-02],    [-6.4881e-02, -4.2144e-02, 1.2908e-01, -2.5124e-02, 1.6642e-01,     -1.3657e-01, -3.7192e-02, 4.5102e-02, -1.4609e-01, -1.3818e-01,     -6.2517e-02, -1.2522e-01, -1.1563e-02, 1.5480e-01, 9.5031e-02,     1.9883e-02, -9.0565e-02, 1.3197e-01, 6.5271e-02, 3.7537e-02,     -4.5907e-02, 1.0654e-01, 5.7921e-02, 1.0937e-01, -1.0771e-01,     1.0556e-02, -2.0209e-01, -5.9124e-02, 4.2414e-02, 2.4866e-02],    [-1.4479e-01, -3.4371e-03, 1.2587e-01, -7.1087e-04, 1.0827e-01,     -1.3489e-03, -1.1168e-01, 1.6067e-01, 1.2447e-01, -1.8184e-01,     -1.4841e-01, -1.0549e-01, -6.0614e-02, -3.6580e-02, 1.3088e-02,     -1.6488e-01, 1.3074e-01, -4.1728e-02, -1.4362e-01, -1.7091e-01,     9.7763e-02, 7.8233e-02, 2.0030e-01, 1.0918e-01, 9.8312e-02,     8.1665e-02, -1.0449e-01, 1.2885e-01, -1.1230e-01, 7.5285e-02],    [-4.7521e-02, -8.6233e-03, -6.5960e-02, 4.7119e-02, 9.5196e-02,     -1.7125e-01, -1.8340e-01, -7.8956e-02, -4.0013e-02, 1.1981e-01,     6.3809e-02, 7.7659e-02, -1.1954e-03, -6.2869e-02, 1.6843e-01,     -3.7125e-02, -2.6623e-02, -1.6214e-02, 7.4718e-03, -5.9933e-02,     -1.9526e-01, 1.7413e-01, -8.2029e-02, 6.4571e-02, -6.2204e-02,     8.0079e-02, -7.7939e-02, 8.3040e-02, -1.5609e-01, -1.2974e-01],    [ 9.3482e-02, -1.7899e-01, -6.6186e-02, -5.3614e-03, 1.4881e-01,     -1.0096e-01, -9.1027e-03, 1.3055e-01, -6.6754e-02, -1.9552e-01,     3.5581e-02, 8.8830e-02, 8.7777e-05, -5.8841e-02, 1.5207e-01,     -2.9512e-02, -4.7515e-02, -1.3797e-01, 9.8551e-02, -1.5279e-01,     1.2323e-01, -9.6657e-02, 2.5342e-02, 1.7423e-01, -1.8336e-01,     -3.3679e-02, 7.4513e-02, 1.1682e-02, -1.3525e-01, -1.9025e-01],    [-1.7075e-01, -6.7493e-02, 1.2095e-01, -1.2919e-01, -1.2101e-01,     -2.5169e-02, -1.8708e-01, -7.4691e-02, -1.3241e-01, 1.7052e-01,     -1.9048e-01, -4.6175e-02, -1.9443e-01, 1.5316e-01, 1.4293e-01,     1.1811e-01, 6.4623e-02, 1.3429e-01, 1.9246e-03, -5.6530e-02,     4.1207e-02, 8.5982e-02, 1.4855e-01, -9.1297e-02, -4.5147e-02,     -9.4368e-02, -7.5672e-02, 7.2824e-03, 1.4258e-01, -1.3120e-01],    [ 2.4159e-02, -5.7430e-02, 1.4370e-01, -4.1046e-02, 1.4702e-01,     -1.1618e-01, 1.9988e-01, 8.7376e-02, 7.8792e-02, 9.1959e-03,     -5.5656e-02, -1.4963e-01, 5.1751e-03, -5.2673e-02, -1.5047e-01,     1.5616e-01, -8.5936e-02, 4.6400e-02, -6.1839e-02, -4.9229e-02,     -1.2513e-01, -1.8055e-01, 1.4664e-02, -1.2003e-01, 9.8462e-02,     -1.1174e-01, 5.7377e-02, 1.9522e-01, -1.5507e-01, 1.1507e-01],    [-6.2137e-02, -1.8866e-01, -1.5937e-01, 1.6477e-01, 1.4108e-01,     -1.4489e-01, 2.0908e-02, 2.5511e-02, 1.3365e-01, -7.4516e-02,     1.6438e-01, -1.4871e-01, 1.3266e-01, 1.7453e-01, 5.5823e-02,     9.2174e-02, 3.3725e-02, 9.8266e-02, -1.8211e-01, -3.4391e-02,     8.1390e-02, -8.8921e-02, 7.1899e-02, -9.7834e-03, -1.5864e-01,     -1.3723e-01, -1.2605e-01, -3.0084e-02, 3.0841e-02, -2.1339e-02]])), ('bias', tensor([-0.0585, 0.0451, -0.1054, 0.0278, 0.0020, -0.0275, -0.1483, 0.0120,    -0.1852, -0.1263]))])>\n",
      "[2023-01-12T21:38:18.919412+0800][CRITICAL][logger]][17033] > HANDLER Request <UID: 483aa67430fc4d6f8f16864f2e78cbbf>: To run test and inference locally\n",
      "Value: <Storable: 'in_features=10, out_features=1, bias=True'>\n",
      "[2023-01-12T21:38:20.019645+0800][CRITICAL][logger]][17033] > HANDLER Request <UID: 87d9e981797b4d988374f52898e38895>: To run test and inference locally\n",
      "Value: <Storable: OrderedDict([('weight', tensor([[-0.1061, -0.2768, -0.1878, 0.2949, 0.0012, 0.0963, -0.1224, 0.3319,     -0.1829, -0.2400]])), ('bias', tensor([0.1104]))])>\n",
      "[2023-01-12T21:38:21.135043+0800][CRITICAL][logger]][17033] > HANDLER Request <UID: 0eca8d22973345bc9c2382b6f271769a>: To run test and inference locally\n",
      "Value: <Storable: ''>\n",
      "[2023-01-12T21:38:22.246693+0800][CRITICAL][logger]][17033] > HANDLER Request <UID: cda1b10997a040aebc5e5d6041b7825f>: To run test and inference locally\n",
      "Value: <Storable: OrderedDict()>\n",
      "[2023-01-12T21:39:21.023161+0800][CRITICAL][logger]][17033] > HANDLER Request <UID: d3a712b25c3f4045b1071ade52d3aa41>: To evaluate training progress\n",
      "Value: <Storable: 0.6966439485549927>\n",
      "[2023-01-12T21:39:22.116780+0800][CRITICAL][logger]][17033] > HANDLER Request <UID: 0d167c8cd5fe48f7976326e35c2249f8>: To run test and inference locally\n",
      "Value: <Storable: 'in_features=30, out_features=10, bias=True'>\n",
      "[2023-01-12T21:39:22.234068+0800][CRITICAL][logger]][17033] > HANDLER Request <UID: 244019e2a0934dd8a81cf08fdca20bea>: To run test and inference locally\n",
      "Value: <Storable: OrderedDict([('weight', tensor([[ 0.1025, -0.0607, -0.0102, 0.0263, 0.1287, 0.0964, 0.0644, 0.2009,     -0.0080, 0.0782, 0.1258, -0.0832, -0.1522, 0.0823, 0.0726, 0.0972,     -0.0372, 0.0956, -0.0240, -0.0332, 0.0614, 0.1485, -0.1192, -0.0955,     0.0593, 0.1220, -0.0783, -0.0821, -0.0020, 0.0906],    [-0.0869, -0.1698, -0.0978, 0.1545, 0.0211, -0.1389, -0.0157, -0.1466,     -0.1693, -0.1535, 0.1597, 0.1136, 0.0345, -0.1070, 0.0063, 0.0732,     0.0135, -0.0120, 0.1109, -0.0347, 0.0111, 0.0010, 0.0753, 0.1892,     -0.1364, -0.1380, 0.0947, 0.0274, -0.0657, 0.0881],    [-0.0594, 0.0269, 0.1131, 0.0021, -0.0365, -0.0798, 0.1070, -0.1493,     -0.0521, 0.0663, 0.1555, -0.1077, -0.1318, 0.2067, -0.1134, 0.0785,     0.0251, -0.0326, 0.1371, -0.0386, 0.0636, 0.0194, -0.0637, 0.1227,     0.1383, 0.1078, -0.0358, 0.1276, 0.0720, -0.1007],    [-0.0719, -0.0324, 0.1207, -0.0351, 0.1763, -0.1446, -0.0472, 0.0351,     -0.1362, -0.1282, -0.0725, -0.1153, -0.0216, 0.1448, 0.1050, 0.0296,     -0.0808, 0.1417, 0.0752, 0.0474, -0.0558, 0.1162, 0.0480, 0.0993,     -0.0979, 0.0010, -0.2120, -0.0690, 0.0521, 0.0345],    [-0.1484, -0.0101, 0.1276, 0.0061, 0.1016, -0.0018, -0.1049, 0.1675,     0.1178, -0.1885, -0.1416, -0.1122, -0.0538, -0.0298, 0.0064, -0.1715,     0.1241, -0.0483, -0.1503, -0.1776, 0.1046, 0.0716, 0.2072, 0.1160,     0.0917, 0.0884, -0.0976, 0.1357, -0.1189, 0.0687],    [-0.0534, 0.0013, -0.0737, 0.0373, 0.1052, -0.1784, -0.1934, -0.0889,     -0.0301, 0.1298, 0.0539, 0.0877, -0.0111, -0.0729, 0.1784, -0.0273,     -0.0167, -0.0063, 0.0175, -0.0499, -0.2050, 0.1840, -0.0918, 0.0546,     -0.0523, 0.0708, -0.0878, 0.0733, -0.1463, -0.1199],    [ 0.1002, -0.1885, -0.0577, 0.0047, 0.1392, -0.0931, 0.0009, 0.1406,     -0.0764, -0.2053, 0.0456, 0.0791, 0.0101, -0.0488, 0.1423, -0.0389,     -0.0569, -0.1474, 0.0888, -0.1625, 0.1332, -0.1061, 0.0353, 0.1843,     -0.1929, -0.0240, 0.0845, 0.0217, -0.1446, -0.1996],    [-0.1768, -0.0577, 0.1130, -0.1391, -0.1112, -0.0326, -0.1971, -0.0847,     -0.1226, 0.1805, -0.2005, -0.0362, -0.2044, 0.1431, 0.1529, 0.1278,     0.0744, 0.1440, 0.0119, -0.0466, 0.0313, 0.0957, 0.1386, -0.1013,     -0.0354, -0.1038, -0.0856, -0.0026, 0.1522, -0.1215],    [ 0.0313, -0.0670, 0.1523, -0.0310, 0.1373, -0.1080, 0.2099, 0.0974,     0.0691, -0.0006, -0.0456, -0.1594, 0.0152, -0.0427, -0.1603, 0.1467,     -0.0955, 0.0369, -0.0716, -0.0590, -0.1152, -0.1900, 0.0247, -0.1100,     0.0889, -0.1020, 0.0674, 0.2052, -0.1645, 0.1056],    [-0.0556, -0.1983, -0.1511, 0.1748, 0.1314, -0.1372, 0.0309, 0.0355,     0.1239, -0.0843, 0.1744, -0.1585, 0.1427, 0.1845, 0.0460, 0.0827,     0.0242, 0.0887, -0.1919, -0.0442, 0.0913, -0.0984, 0.0819, 0.0003,     -0.1683, -0.1276, -0.1160, -0.0201, 0.0213, -0.0308]])), ('bias', tensor([-0.0683, 0.0352, -0.1152, 0.0377, -0.0046, -0.0175, -0.1581, 0.0219,    -0.1950, -0.1361]))])>\n"
     ]
    },
    {
     "name": "stderr",
     "output_type": "stream",
     "text": [
      "[2023-01-12T21:39:22.359179+0800][CRITICAL][logger]][17033] > HANDLER Request <UID: ace36cf567d14c4d9e7c62be3246b7e7>: To run test and inference locally\n",
      "Value: <Storable: 'in_features=10, out_features=1, bias=True'>\n",
      "[2023-01-12T21:39:23.474541+0800][CRITICAL][logger]][17033] > HANDLER Request <UID: 13853520d8f942ccad1ffbda13532ecd>: To run test and inference locally\n",
      "Value: <Storable: OrderedDict([('weight', tensor([[-0.0963, -0.2669, -0.1779, 0.3048, 0.0110, 0.1063, -0.1126, 0.3418,     -0.1730, -0.2302]])), ('bias', tensor([0.1203]))])>\n",
      "[2023-01-12T21:39:24.578328+0800][CRITICAL][logger]][17033] > HANDLER Request <UID: 6fa23b3ee53b498fadb128f1fda0196b>: To run test and inference locally\n",
      "Value: <Storable: ''>\n",
      "[2023-01-12T21:39:25.681361+0800][CRITICAL][logger]][17033] > HANDLER Request <UID: 3ae721a45206498290eee74ce2ae074a>: To run test and inference locally\n",
      "Value: <Storable: OrderedDict()>\n",
      "[2023-01-12T21:48:29.831831+0800][CRITICAL][logger]][17033] > HANDLER Request <UID: e81c9382102140299a20170c62ac1070>: To evaluate training progress\n",
      "Value: <Storable: 0.6857185363769531>\n",
      "[2023-01-12T21:48:30.923811+0800][CRITICAL][logger]][17033] > HANDLER Request <UID: 1b32b092ffdf46bdb2b98d0cf91618c3>: To run test and inference locally\n",
      "Value: <Storable: 'in_features=30, out_features=10, bias=True'>\n",
      "[2023-01-12T21:48:32.036281+0800][CRITICAL][logger]][17033] > HANDLER Request <UID: f49bc80266f64594883270258e467334>: To run test and inference locally\n",
      "Value: <Storable: OrderedDict([('weight', tensor([[ 0.1100, -0.0697, -0.0015, 0.0364, 0.1193, 0.1048, 0.0745, 0.2110,     -0.0173, 0.0687, 0.1359, -0.0928, -0.1421, 0.0923, 0.0631, 0.0883,     -0.0462, 0.0866, -0.0335, -0.0427, 0.0714, 0.1396, -0.1092, -0.0855,     0.0502, 0.1317, -0.0682, -0.0721, -0.0109, 0.0818],    [-0.0791, -0.1790, -0.0890, 0.1645, 0.0116, -0.1305, -0.0056, -0.1365,     -0.1788, -0.1632, 0.1697, 0.1039, 0.0445, -0.0969, -0.0034, 0.0641,     0.0043, -0.0212, 0.1012, -0.0443, 0.0211, -0.0080, 0.0853, 0.1993,     -0.1457, -0.1283, 0.1048, 0.0374, -0.0747, 0.0791],    [-0.0514, 0.0177, 0.1220, 0.0121, -0.0460, -0.0712, 0.1170, -0.1392,     -0.0615, 0.0566, 0.1656, -0.1173, -0.1217, 0.2167, -0.1231, 0.0695,     0.0160, -0.0417, 0.1274, -0.0482, 0.0736, 0.0104, -0.0536, 0.1328,     0.1291, 0.1175, -0.0258, 0.1376, 0.0630, -0.1096],    [-0.0799, -0.0229, 0.1119, -0.0451, 0.1860, -0.1531, -0.0573, 0.0250,     -0.1266, -0.1184, -0.0826, -0.1054, -0.0316, 0.1347, 0.1149, 0.0389,     -0.0714, 0.1511, 0.0851, 0.0573, -0.0657, 0.1255, 0.0381, 0.0893,     -0.0884, -0.0086, -0.2220, -0.0789, 0.0613, 0.0438],    [-0.1549, -0.0138, 0.1224, 0.0062, 0.0982, -0.0074, -0.1039, 0.1685,     0.1144, -0.1915, -0.1409, -0.1151, -0.0532, -0.0283, 0.0035, -0.1755,     0.1203, -0.0522, -0.1533, -0.1807, 0.1040, 0.0676, 0.2068, 0.1170,     0.0880, 0.0860, -0.0977, 0.1351, -0.1229, 0.0646],    [-0.0608, 0.0110, -0.0820, 0.0274, 0.1151, -0.1865, -0.2034, -0.0989,     -0.0202, 0.1398, 0.0439, 0.0977, -0.0211, -0.0829, 0.1885, -0.0176,     -0.0070, 0.0033, 0.0275, -0.0400, -0.2147, 0.1936, -0.1016, 0.0446,     -0.0425, 0.0615, -0.0976, 0.0636, -0.1367, -0.1103],    [ 0.1082, -0.1975, -0.0488, 0.0147, 0.1299, -0.0845, 0.0110, 0.1506,     -0.0856, -0.2148, 0.0557, 0.0695, 0.0202, -0.0388, 0.1327, -0.0477,     -0.0658, -0.1563, 0.0792, -0.1719, 0.1432, -0.1148, 0.0454, 0.1943,     -0.2020, -0.0142, 0.0946, 0.0317, -0.1534, -0.2084],    [-0.1843, -0.0482, 0.1045, -0.1491, -0.1015, -0.0408, -0.2072, -0.0948,     -0.1129, 0.1903, -0.2105, -0.0264, -0.2145, 0.1331, 0.1628, 0.1372,     0.0838, 0.1534, 0.0217, -0.0368, 0.0215, 0.1050, 0.1287, -0.1114,     -0.0258, -0.1134, -0.0956, -0.0125, 0.1615, -0.1123],    [ 0.0394, -0.0761, 0.1613, -0.0210, 0.1279, -0.0993, 0.2200, 0.1075,     0.0598, -0.0102, -0.0356, -0.1691, 0.0253, -0.0326, -0.1700, 0.1378,     -0.1045, 0.0279, -0.0813, -0.0685, -0.1052, -0.1988, 0.0347, -0.0999,     0.0797, -0.0923, 0.0774, 0.2152, -0.1733, 0.0968],    [-0.0478, -0.2074, -0.1423, 0.1848, 0.1219, -0.1288, 0.0410, 0.0456,     0.1145, -0.0940, 0.1845, -0.1682, 0.1528, 0.1946, 0.0363, 0.0737,     0.0151, 0.0796, -0.2016, -0.0538, 0.1013, -0.1074, 0.0919, 0.0103,     -0.1775, -0.1179, -0.1060, -0.0101, 0.0124, -0.0398]])), ('bias', tensor([-0.0778, 0.0256, -0.1249, 0.0476, -0.0076, -0.0075, -0.1676, 0.0318,    -0.2046, -0.1458]))])>\n",
      "[2023-01-12T21:48:33.155841+0800][CRITICAL][logger]][17033] > HANDLER Request <UID: 94d6df675b5244b48cd8b005bebcead5>: To run test and inference locally\n",
      "Value: <Storable: 'in_features=10, out_features=1, bias=True'>\n",
      "[2023-01-12T21:48:34.273088+0800][CRITICAL][logger]][17033] > HANDLER Request <UID: 31372f149cff4b4faf19cb8542d9e6f5>: To run test and inference locally\n",
      "Value: <Storable: OrderedDict([('weight', tensor([[-0.0866, -0.2572, -0.1682, 0.3147, 0.0207, 0.1161, -0.1029, 0.3517,     -0.1634, -0.2204]])), ('bias', tensor([0.1301]))])>\n",
      "[2023-01-12T21:48:35.379559+0800][CRITICAL][logger]][17033] > HANDLER Request <UID: ab52827a1ec64b01ab03537574f71d03>: To run test and inference locally\n",
      "Value: <Storable: ''>\n",
      "[2023-01-12T21:48:36.500281+0800][CRITICAL][logger]][17033] > HANDLER Request <UID: 59f56d6b47e0421fa95fd6c7de8b8999>: To run test and inference locally\n",
      "Value: <Storable: OrderedDict()>\n"
     ]
    }
   ],
   "source": [
    "duet.requests.add_handler(\n",
    "    action=\"accept\",\n",
    "    print_local=True,  # print the result in your notebook\n",
    ")"
   ]
  },
  {
   "cell_type": "code",
   "execution_count": null,
   "id": "007c8e0f",
   "metadata": {},
   "outputs": [],
   "source": []
  },
  {
   "cell_type": "code",
   "execution_count": null,
   "id": "assigned-tomato",
   "metadata": {},
   "outputs": [],
   "source": [
    "duet.requests.handlers"
   ]
  },
  {
   "cell_type": "code",
   "execution_count": null,
   "id": "60e523aa",
   "metadata": {},
   "outputs": [],
   "source": []
  },
  {
   "cell_type": "code",
   "execution_count": null,
   "id": "01edb8bc",
   "metadata": {},
   "outputs": [],
   "source": [
    "duet.store.pandas"
   ]
  },
  {
   "cell_type": "code",
   "execution_count": null,
   "id": "d4eda1e8",
   "metadata": {},
   "outputs": [],
   "source": [
    "duet.statsmodels"
   ]
  },
  {
   "cell_type": "code",
   "execution_count": null,
   "id": "62cc43f9",
   "metadata": {},
   "outputs": [],
   "source": [
    "duet.store[2].get(delete_obj=False)"
   ]
  },
  {
   "cell_type": "code",
   "execution_count": null,
   "id": "fce08d17",
   "metadata": {},
   "outputs": [],
   "source": [
    "duet.store[3].get_copy()"
   ]
  },
  {
   "cell_type": "code",
   "execution_count": null,
   "id": "0e2ebcd4",
   "metadata": {},
   "outputs": [],
   "source": []
  }
 ],
 "metadata": {
  "kernelspec": {
   "display_name": "Python 3 (ipykernel)",
   "language": "python",
   "name": "python3"
  },
  "language_info": {
   "codemirror_mode": {
    "name": "ipython",
    "version": 3
   },
   "file_extension": ".py",
   "mimetype": "text/x-python",
   "name": "python",
   "nbconvert_exporter": "python",
   "pygments_lexer": "ipython3",
   "version": "3.9.13"
  }
 },
 "nbformat": 4,
 "nbformat_minor": 5
}
