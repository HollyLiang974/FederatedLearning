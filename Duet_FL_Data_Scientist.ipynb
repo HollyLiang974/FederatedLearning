{
 "cells": [
  {
   "cell_type": "markdown",
   "id": "earlier-investing",
   "metadata": {},
   "source": [
    "## Join the Duet Server the Data Owner 1 connected to"
   ]
  },
  {
   "cell_type": "code",
   "execution_count": 4,
   "id": "sized-session",
   "metadata": {
    "scrolled": true
   },
   "outputs": [
    {
     "name": "stdout",
     "output_type": "stream",
     "text": [
      "🎤  🎸  ♪♪♪ Joining Duet ♫♫♫  🎻  🎹\n",
      "\n",
      "♫♫♫ >\u001b[93m DISCLAIMER\u001b[0m: \u001b[1mDuet is an experimental feature currently in beta.\n",
      "♫♫♫ > Use at your own risk.\n",
      "\u001b[0m\n",
      "\u001b[1m\n",
      "    > ❤️ \u001b[91mLove\u001b[0m \u001b[92mDuet\u001b[0m? \u001b[93mPlease\u001b[0m \u001b[94mconsider\u001b[0m \u001b[95msupporting\u001b[0m \u001b[91mour\u001b[0m \u001b[93mcommunity!\u001b[0m\n",
      "    > https://github.com/sponsors/OpenMined\u001b[1m\n",
      "\n",
      "♫♫♫ > Punching through firewall to OpenGrid Network Node at:\n",
      "♫♫♫ > http://localhost:5000/\n",
      "♫♫♫ >\n",
      "♫♫♫ > ...waiting for response from OpenGrid Network... \n",
      "♫♫♫ > \u001b[92mDONE!\u001b[0m\n"
     ]
    },
    {
     "name": "stderr",
     "output_type": "stream",
     "text": [
      "/home/holly/anaconda3/envs/pysyft/lib/python3.9/site-packages/aiortc/rtcdtlstransport.py:211: CryptographyDeprecationWarning: This version of cryptography contains a temporary pyOpenSSL fallback path. Upgrade pyOpenSSL now.\n",
      "  _openssl_assert(lib.SSL_CTX_use_certificate(ctx, self._cert._x509) == 1)  # type: ignore\n",
      "/home/holly/anaconda3/envs/pysyft/lib/python3.9/site-packages/aiortc/rtcdtlstransport.py:186: CryptographyDeprecationWarning: This version of cryptography contains a temporary pyOpenSSL fallback path. Upgrade pyOpenSSL now.\n",
      "  value=certificate_digest(self._cert._x509),  # type: ignore\n"
     ]
    },
    {
     "name": "stdout",
     "output_type": "stream",
     "text": [
      "\n",
      "♫♫♫ > \u001b[92mCONNECTED!\u001b[0m\n"
     ]
    }
   ],
   "source": [
    "import syft as sy\n",
    "duet1 = sy.join_duet(loopback=True,network_url=\"http://localhost:5000/\")"
   ]
  },
  {
   "cell_type": "markdown",
   "id": "racial-container",
   "metadata": {},
   "source": [
    "## Join the Duet Server the Data Owner 2 connected to"
   ]
  },
  {
   "cell_type": "code",
   "execution_count": 5,
   "id": "centered-knife",
   "metadata": {
    "scrolled": true
   },
   "outputs": [
    {
     "name": "stdout",
     "output_type": "stream",
     "text": [
      "🎤  🎸  ♪♪♪ Joining Duet ♫♫♫  🎻  🎹\n",
      "\n",
      "♫♫♫ >\u001b[93m DISCLAIMER\u001b[0m: \u001b[1mDuet is an experimental feature currently in beta.\n",
      "♫♫♫ > Use at your own risk.\n",
      "\u001b[0m\n",
      "\u001b[1m\n",
      "    > ❤️ \u001b[91mLove\u001b[0m \u001b[92mDuet\u001b[0m? \u001b[93mPlease\u001b[0m \u001b[94mconsider\u001b[0m \u001b[95msupporting\u001b[0m \u001b[91mour\u001b[0m \u001b[93mcommunity!\u001b[0m\n",
      "    > https://github.com/sponsors/OpenMined\u001b[1m\n",
      "\n",
      "♫♫♫ > Punching through firewall to OpenGrid Network Node at:\n",
      "♫♫♫ > http://localhost:5000/\n",
      "♫♫♫ >\n",
      "♫♫♫ > ...waiting for response from OpenGrid Network... \n",
      "♫♫♫ > \u001b[92mDONE!\u001b[0m\n",
      "\n",
      "♫♫♫ > \u001b[92mCONNECTED!\u001b[0m\n"
     ]
    }
   ],
   "source": [
    "duet2 = sy.join_duet(loopback=True,network_url=\"http://localhost:5000/\")"
   ]
  },
  {
   "cell_type": "code",
   "execution_count": 6,
   "id": "wanted-upper",
   "metadata": {},
   "outputs": [
    {
     "data": {
      "text/html": [
       "<div>\n",
       "<style scoped>\n",
       "    .dataframe tbody tr th:only-of-type {\n",
       "        vertical-align: middle;\n",
       "    }\n",
       "\n",
       "    .dataframe tbody tr th {\n",
       "        vertical-align: top;\n",
       "    }\n",
       "\n",
       "    .dataframe thead th {\n",
       "        text-align: right;\n",
       "    }\n",
       "</style>\n",
       "<table border=\"1\" class=\"dataframe\">\n",
       "  <thead>\n",
       "    <tr style=\"text-align: right;\">\n",
       "      <th></th>\n",
       "      <th>ID</th>\n",
       "      <th>Tags</th>\n",
       "      <th>Description</th>\n",
       "      <th>object_type</th>\n",
       "    </tr>\n",
       "  </thead>\n",
       "  <tbody>\n",
       "    <tr>\n",
       "      <th>0</th>\n",
       "      <td>&lt;UID: 4ba64b83a08f4192801bb372dfb905af&gt;</td>\n",
       "      <td>[breast_cancer-data]</td>\n",
       "      <td>这是威斯康星洲临床科学中心开元的乳腺癌肿瘤数据集其中200条样本，共30维的特征数据</td>\n",
       "      <td>&lt;class 'torch.Tensor'&gt;</td>\n",
       "    </tr>\n",
       "    <tr>\n",
       "      <th>1</th>\n",
       "      <td>&lt;UID: b6c148b8531e4190ba778bb16b9db0b0&gt;</td>\n",
       "      <td>[breast_cancer-target]</td>\n",
       "      <td>这是数据标签，1代表良性肿瘤，0代表恶性肿瘤</td>\n",
       "      <td>&lt;class 'torch.Tensor'&gt;</td>\n",
       "    </tr>\n",
       "  </tbody>\n",
       "</table>\n",
       "</div>"
      ],
      "text/plain": [
       "                                        ID                    Tags  \\\n",
       "0  <UID: 4ba64b83a08f4192801bb372dfb905af>    [breast_cancer-data]   \n",
       "1  <UID: b6c148b8531e4190ba778bb16b9db0b0>  [breast_cancer-target]   \n",
       "\n",
       "                                  Description             object_type  \n",
       "0  这是威斯康星洲临床科学中心开元的乳腺癌肿瘤数据集其中200条样本，共30维的特征数据  <class 'torch.Tensor'>  \n",
       "1                      这是数据标签，1代表良性肿瘤，0代表恶性肿瘤  <class 'torch.Tensor'>  "
      ]
     },
     "execution_count": 6,
     "metadata": {},
     "output_type": "execute_result"
    }
   ],
   "source": [
    "duet1.store.pandas"
   ]
  },
  {
   "cell_type": "code",
   "execution_count": 7,
   "id": "going-exposure",
   "metadata": {},
   "outputs": [
    {
     "data": {
      "text/html": [
       "<div>\n",
       "<style scoped>\n",
       "    .dataframe tbody tr th:only-of-type {\n",
       "        vertical-align: middle;\n",
       "    }\n",
       "\n",
       "    .dataframe tbody tr th {\n",
       "        vertical-align: top;\n",
       "    }\n",
       "\n",
       "    .dataframe thead th {\n",
       "        text-align: right;\n",
       "    }\n",
       "</style>\n",
       "<table border=\"1\" class=\"dataframe\">\n",
       "  <thead>\n",
       "    <tr style=\"text-align: right;\">\n",
       "      <th></th>\n",
       "      <th>ID</th>\n",
       "      <th>Tags</th>\n",
       "      <th>Description</th>\n",
       "      <th>object_type</th>\n",
       "    </tr>\n",
       "  </thead>\n",
       "  <tbody>\n",
       "    <tr>\n",
       "      <th>0</th>\n",
       "      <td>&lt;UID: 1fc48184457144e1ad8627f80c1217cf&gt;</td>\n",
       "      <td>[breast_cancer-data]</td>\n",
       "      <td>这是威斯康星洲临床科学中心开元的乳腺癌肿瘤数据集总296条样本，共30维的特征数据</td>\n",
       "      <td>&lt;class 'torch.Tensor'&gt;</td>\n",
       "    </tr>\n",
       "    <tr>\n",
       "      <th>1</th>\n",
       "      <td>&lt;UID: 0b4d398b2db24db6beabaae1e5c99666&gt;</td>\n",
       "      <td>[breast_cancer-target]</td>\n",
       "      <td>这是数据标签，1代表良性肿瘤，0代表恶性肿瘤</td>\n",
       "      <td>&lt;class 'torch.Tensor'&gt;</td>\n",
       "    </tr>\n",
       "  </tbody>\n",
       "</table>\n",
       "</div>"
      ],
      "text/plain": [
       "                                        ID                    Tags  \\\n",
       "0  <UID: 1fc48184457144e1ad8627f80c1217cf>    [breast_cancer-data]   \n",
       "1  <UID: 0b4d398b2db24db6beabaae1e5c99666>  [breast_cancer-target]   \n",
       "\n",
       "                                 Description             object_type  \n",
       "0  这是威斯康星洲临床科学中心开元的乳腺癌肿瘤数据集总296条样本，共30维的特征数据  <class 'torch.Tensor'>  \n",
       "1                     这是数据标签，1代表良性肿瘤，0代表恶性肿瘤  <class 'torch.Tensor'>  "
      ]
     },
     "execution_count": 7,
     "metadata": {},
     "output_type": "execute_result"
    }
   ],
   "source": [
    "duet2.store.pandas"
   ]
  },
  {
   "cell_type": "code",
   "execution_count": 8,
   "id": "719d8dad",
   "metadata": {},
   "outputs": [],
   "source": [
    "data_ptr1 = duet1.store[0]\n",
    "target_ptr1 = duet1.store[1]\n",
    "data_ptr2 = duet2.store[0]\n",
    "target_ptr2 = duet2.store[1]"
   ]
  },
  {
   "cell_type": "code",
   "execution_count": 9,
   "id": "9c82076c",
   "metadata": {},
   "outputs": [
    {
     "name": "stdout",
     "output_type": "stream",
     "text": [
      "<syft.proxy.torch.TensorPointer object at 0x7f13fb1b8ca0>\n",
      "<syft.proxy.torch.TensorPointer object at 0x7f13fb7df1f0>\n",
      "<syft.proxy.torch.TensorPointer object at 0x7f13fb7df1c0>\n",
      "<syft.proxy.torch.TensorPointer object at 0x7f13fb7df220>\n"
     ]
    }
   ],
   "source": [
    "print(data_ptr1)\n",
    "print(target_ptr1)\n",
    "print(data_ptr2)\n",
    "print(target_ptr2)"
   ]
  },
  {
   "cell_type": "code",
   "execution_count": 10,
   "id": "c2ba9795",
   "metadata": {},
   "outputs": [
    {
     "name": "stdout",
     "output_type": "stream",
     "text": [
      "这是威斯康星洲临床科学中心开元的乳腺癌肿瘤数据集其中200条样本，共30维的特征数据\n",
      "\n",
      "这是数据标签，1代表良性肿瘤，0代表恶性肿瘤\n",
      "这是威斯康星洲临床科学中心开元的乳腺癌肿瘤数据集总296条样本，共30维的特征数据\n",
      "\n",
      "这是数据标签，1代表良性肿瘤，0代表恶性肿瘤\n"
     ]
    }
   ],
   "source": [
    "print(duet1.store.pandas[\"Description\"][0])\n",
    "print()\n",
    "print(duet1.store.pandas[\"Description\"][1])\n",
    "print(duet2.store.pandas[\"Description\"][0])\n",
    "print()\n",
    "print(duet2.store.pandas[\"Description\"][1])"
   ]
  },
  {
   "cell_type": "markdown",
   "id": "seeing-savage",
   "metadata": {},
   "source": [
    "### Create Base Model"
   ]
  },
  {
   "cell_type": "code",
   "execution_count": 11,
   "id": "91d89712",
   "metadata": {},
   "outputs": [],
   "source": [
    "import torch"
   ]
  },
  {
   "cell_type": "code",
   "execution_count": 12,
   "id": "1612d83c",
   "metadata": {},
   "outputs": [],
   "source": [
    "class SyNet(sy.Module):\n",
    "    def __init__(self, torch_ref):\n",
    "        super(SyNet, self).__init__(torch_ref=torch_ref)\n",
    "        self.fc1 = self.torch_ref.nn.Linear(30, 10)\n",
    "        self.fc2 = self.torch_ref.nn.Linear(10, 1)\n",
    "        self.sigmoid=self.torch_ref.nn.Sigmoid()\n",
    "\n",
    "    def forward(self, x):\n",
    "        x = self.fc1(x)\n",
    "        x = self.sigmoid(x)\n",
    "        x = self.fc2(x)\n",
    "        x = self.sigmoid(x)\n",
    "        return x"
   ]
  },
  {
   "cell_type": "code",
   "execution_count": 13,
   "id": "b50468e5",
   "metadata": {},
   "outputs": [],
   "source": [
    "local_model = SyNet(torch)"
   ]
  },
  {
   "cell_type": "markdown",
   "id": "418a5075",
   "metadata": {},
   "source": [
    "将模型发动给dataowner1和dataowner2"
   ]
  },
  {
   "cell_type": "code",
   "execution_count": 14,
   "id": "35a76823",
   "metadata": {},
   "outputs": [],
   "source": [
    "remote_model1 = local_model.send(duet1)"
   ]
  },
  {
   "cell_type": "code",
   "execution_count": 15,
   "id": "eca7e80b",
   "metadata": {},
   "outputs": [],
   "source": [
    "remote_model2 = local_model.send(duet2)"
   ]
  },
  {
   "cell_type": "markdown",
   "id": "42d91ed9",
   "metadata": {},
   "source": [
    "远程的torch"
   ]
  },
  {
   "cell_type": "code",
   "execution_count": 16,
   "id": "c62d13ee",
   "metadata": {},
   "outputs": [],
   "source": [
    "remote_torch1 = duet1.torch"
   ]
  },
  {
   "cell_type": "code",
   "execution_count": 17,
   "id": "aeb5612e",
   "metadata": {},
   "outputs": [],
   "source": [
    "remote_torch2 = duet2.torch"
   ]
  },
  {
   "cell_type": "markdown",
   "id": "14aa4bf8",
   "metadata": {},
   "source": [
    "设置优化器"
   ]
  },
  {
   "cell_type": "code",
   "execution_count": 18,
   "id": "41634ae8",
   "metadata": {},
   "outputs": [],
   "source": [
    "params1 = remote_model1.parameters()\n",
    "optim1 = remote_torch1.optim.Adam(params=params1, lr=0.01)\n",
    "params2 = remote_model2.parameters()\n",
    "optim2 = remote_torch2.optim.Adam(params=params2, lr=0.01)"
   ]
  },
  {
   "cell_type": "code",
   "execution_count": 22,
   "id": "e89612cf",
   "metadata": {},
   "outputs": [],
   "source": [
    "async def train(ownername,iterations, model, torch_ref, optim, data_ptr, target_ptr):\n",
    "\n",
    "    losses = []\n",
    "    #损失函数\n",
    "    cost=torch_ref.nn.BCELoss()\n",
    "    for i in range(iterations):\n",
    "        \n",
    "        #预测结果\n",
    "        output = model(data_ptr)\n",
    "        \n",
    "        #计算损失值\n",
    "        loss=cost(output,target_ptr)\n",
    "        \n",
    "        #在反向传播前先把梯度清零\n",
    "        optim.zero_grad()\n",
    "        \n",
    "        #反向传播,计算各参数对于损失loss的梯度\n",
    "        loss.backward()\n",
    "        \n",
    "        #根据刚刚反向传播得到的梯度更新模型参数\n",
    "        optim.step()        \n",
    "\n",
    "        loss_item = loss.item()\n",
    "        \n",
    "        loss_value = loss_item.get(\n",
    "            reason=\"To evaluate training progress\", request_block=True, timeout_secs=5,delete_obj=False)\n",
    "\n",
    "        if i % 100 == 0:\n",
    "            print(ownername,\"--Epoch\", i, \"loss\", loss_value)\n",
    "        ##返回损失\n",
    "        losses.append(loss_value)\n",
    "        \n",
    "    #返回模型\n",
    "    latest_model=model.get(\n",
    "        request_block=True,\n",
    "        reason=\"To run test and inference locally\",\n",
    "        timeout_secs=5,\n",
    "    )\n",
    "\n",
    "    return 0"
   ]
  },
  {
   "cell_type": "markdown",
   "id": "b6e00351",
   "metadata": {},
   "source": [
    "设置迭代次数"
   ]
  },
  {
   "cell_type": "code",
   "execution_count": 23,
   "id": "7f96def8",
   "metadata": {},
   "outputs": [],
   "source": [
    "iteration = 400"
   ]
  },
  {
   "cell_type": "code",
   "execution_count": 24,
   "id": "841678d2",
   "metadata": {},
   "outputs": [
    {
     "name": "stdout",
     "output_type": "stream",
     "text": [
      "dataowner2 --Epoch 0 loss 0.7461003065109253\n",
      "dataowner2 --Epoch 100 loss 0.5986180305480957\n",
      "dataowner2 --Epoch 200 loss 0.423175573348999\n",
      "dataowner2 --Epoch 300 loss 0.2617560029029846\n",
      "dataowner1 --Epoch 0 loss 0.5799753665924072\n",
      "dataowner1 --Epoch 100 loss 0.3977128267288208\n",
      "dataowner1 --Epoch 200 loss 0.2465762197971344\n",
      "dataowner1 --Epoch 300 loss 0.1673269271850586\n"
     ]
    }
   ],
   "source": [
    "import asyncio\n",
    "results = await asyncio.gather(\n",
    "        *[\n",
    "            train(\"dataowner1\",iteration, remote_model1, remote_torch1, optim1, data_ptr1, target_ptr1),\n",
    "            train(\"dataowner2\",iteration, remote_model2, remote_torch2, optim2, data_ptr2, target_ptr2)\n",
    "        ]\n",
    "    )"
   ]
  },
  {
   "cell_type": "markdown",
   "id": "hearing-passage",
   "metadata": {},
   "source": [
    "### 获取DataOwner1和DataOwner2模型参数"
   ]
  },
  {
   "cell_type": "code",
   "execution_count": 25,
   "id": "afraid-bishop",
   "metadata": {},
   "outputs": [
    {
     "name": "stdout",
     "output_type": "stream",
     "text": [
      "OrderedDict([('fc1.weight', tensor([[ 0.1978,  1.0762, -0.5464, -2.5852,  2.4051, -0.6892, -1.3304, -5.1305,\n",
      "          4.2383, -1.3442, -2.2525,  2.1067, -1.7842,  1.2646, -3.0602,  3.6656,\n",
      "          3.4395, -3.7456,  0.1927, -1.2394, -0.6272,  4.1061,  2.1208,  1.4013,\n",
      "         -0.7162,  2.6690,  4.2041,  0.9577,  0.1324, -0.4689],\n",
      "        [-0.1706,  1.7912,  0.5456,  1.7628,  3.4748, -3.9629, -1.0447,  1.9246,\n",
      "          0.7090,  1.9309,  2.3952,  0.3743, -0.2223, -1.3338,  0.0086, -0.5873,\n",
      "         -4.6073, -5.3950, -1.3491,  4.1690, -0.1566, -1.3966,  1.9625, -0.1052,\n",
      "         -0.8111, -1.3887, -0.0367, -3.6539,  0.0858,  4.8997],\n",
      "        [-1.8056,  1.4997, -3.0894,  1.1877, -4.5314, -2.7503,  1.0923,  1.6539,\n",
      "         -3.6214,  3.7660,  3.2089, -2.4037, -3.6043, -0.9404,  3.4390,  5.7618,\n",
      "         -3.7532,  2.7549,  2.2914, -3.9960,  3.5746,  0.9593, -0.1924,  3.7767,\n",
      "          0.6595,  4.7206, -1.9128,  4.6993, -2.0423, -3.3156],\n",
      "        [ 3.7976, -0.8936,  3.7425,  1.1905,  3.7302,  0.0169,  0.4044,  0.0573,\n",
      "          1.3261,  1.1417, -2.0765,  3.8022,  0.0842, -2.4786, -1.7882, -1.6522,\n",
      "         -1.2679, -0.1779, -0.6322,  3.5404,  0.9324, -1.1580,  0.7675, -1.5178,\n",
      "         -1.0805, -2.9070, -2.3285, -4.6455,  0.3058,  1.9630],\n",
      "        [ 2.5505,  1.7708,  2.0990, -3.3677,  0.7130,  3.4245,  2.1682,  3.0378,\n",
      "          3.3974, -2.4776, -1.2884,  1.8273, -2.6900, -2.8698, -4.0759, -4.1593,\n",
      "          0.3940,  3.0508,  1.6768, -3.1531,  2.5865, -0.0280, -0.5334, -1.1437,\n",
      "         -2.5582,  1.3674,  2.2910,  1.1755,  0.2196,  1.4613],\n",
      "        [-4.5233, -4.3485, -4.7622, -3.5186, -3.5178,  1.6723,  4.2552,  3.8847,\n",
      "         -2.1042, -0.8689,  4.4431,  2.1745,  3.5222, -0.9230,  1.5004,  4.3528,\n",
      "         -3.4291,  3.0473, -4.6124, -2.6867, -0.8977,  0.4189,  1.1466, -3.6290,\n",
      "          2.1518,  5.0004,  0.8938, -2.4183,  4.0339, -3.3472],\n",
      "        [-2.8496, -4.3751, -2.7620,  2.0828,  1.8420,  4.7976, -4.0756,  1.2250,\n",
      "          1.8619,  3.3719,  0.9480,  1.7979, -4.8174,  4.1920, -4.9253,  0.7660,\n",
      "          3.3724, -3.1609,  1.6384, -1.6721, -0.1030,  2.0419, -2.6748,  4.4273,\n",
      "          0.4473, -4.1054, -3.8408,  5.2425, -2.5817,  0.2667],\n",
      "        [ 1.2678, -2.7631, -0.2134,  3.4128,  1.8404, -2.4825, -3.9995,  0.5060,\n",
      "         -0.8483,  0.7019,  0.5567,  4.7476, -0.5260,  0.3983,  4.2982,  4.1961,\n",
      "         -1.6047,  0.8139,  2.4819,  3.4842, -1.5454, -3.6538, -0.0067,  1.6796,\n",
      "         -2.4922,  1.7326, -2.6691, -2.1975,  2.0212,  2.5774],\n",
      "        [-3.2610,  2.1556, -2.1070, -2.1987,  1.4708,  0.7364,  4.2283,  4.6382,\n",
      "         -0.9219, -1.9254,  3.2144,  4.0772,  3.5475, -0.7187,  0.1755,  2.9884,\n",
      "         -0.5054,  2.0340, -1.3173,  0.6826, -3.7997,  3.3456, -1.1893, -1.9896,\n",
      "         -4.1715,  0.9418,  3.3936,  1.1234, -2.9479, -3.2974],\n",
      "        [ 0.8904,  3.2923,  2.5438, -2.8977, -1.3523,  1.0101,  3.7398, -4.9416,\n",
      "          0.5679,  0.0421, -3.6806, -3.9551,  3.5158, -2.8349, -4.1225, -4.5769,\n",
      "          4.7698, -1.0729, -2.2777, -0.6313,  1.9897,  3.7712,  4.3277, -2.4481,\n",
      "          2.1653, -4.1666,  5.6133, -3.8922, -2.4459,  2.2109]])), ('fc1.bias', tensor([ 2.1342, -3.1517, -0.2130, -0.5495,  0.1927,  0.1345,  0.5552, -1.1733,\n",
      "        -1.6941,  1.7287])), ('fc2.weight', tensor([[-3.3630,  2.3544, -3.1043,  2.1347,  2.9283,  3.1928, -3.0804, -2.3789,\n",
      "          3.0440,  2.1724]])), ('fc2.bias', tensor([-0.5871]))])\n"
     ]
    }
   ],
   "source": [
    "remote_model1_updates = remote_model1.get(\n",
    "    request_block=True\n",
    ").state_dict()\n",
    "\n",
    "print(remote_model1_updates)"
   ]
  },
  {
   "cell_type": "code",
   "execution_count": 26,
   "id": "limiting-slope",
   "metadata": {},
   "outputs": [
    {
     "name": "stdout",
     "output_type": "stream",
     "text": [
      "OrderedDict([('fc1.weight', tensor([[-0.9455,  0.5285, -1.4916, -2.2217,  1.2970,  0.0291, -1.9377, -4.0828,\n",
      "          3.1194, -1.5672, -1.4372,  1.9509, -1.5382,  0.9456, -2.3179,  3.6968,\n",
      "          2.5201, -3.6483,  0.5055, -1.4644,  0.6884,  3.1010,  1.8234,  2.0452,\n",
      "         -0.1579,  3.2199,  3.3649,  1.4777, -0.4170, -0.1961],\n",
      "        [ 0.4975,  1.3478,  0.9962,  1.1588,  3.1973, -2.9054, -0.1706,  0.7057,\n",
      "          1.0432,  1.1523,  1.7066,  0.4872,  0.3088, -1.4239,  0.0308, -0.8341,\n",
      "         -3.2605, -4.2415, -1.5243,  3.4876, -0.2100, -1.2737,  1.7506, -0.3878,\n",
      "         -0.7801, -1.5753, -0.4739, -3.6175,  0.3479,  4.2877],\n",
      "        [-1.2877,  1.1549, -2.5278,  1.8092, -4.0246, -2.3739,  0.3292,  2.0196,\n",
      "         -2.9842,  3.2538,  2.3749, -2.1960, -2.8251, -0.3124,  2.9302,  4.5777,\n",
      "         -2.7264,  2.0390,  1.8290, -3.2232,  2.4892,  1.0321, -1.0419,  3.1020,\n",
      "          0.7236,  3.8897, -1.3526,  3.9837, -1.8710, -2.5830],\n",
      "        [ 2.4187, -0.8620,  2.3594,  0.6207,  2.9752, -0.5373, -0.0078,  0.5809,\n",
      "          0.1407,  1.6011, -0.8098,  2.0926,  0.4606, -1.5108, -1.5495, -1.2372,\n",
      "         -1.8600, -0.4145, -1.0093,  3.2791,  0.4817, -1.3618,  0.4063, -1.0249,\n",
      "         -0.5568, -2.0829, -2.3082, -3.6846,  0.4751,  2.5683],\n",
      "        [ 2.2629,  1.6749,  1.9312, -2.8782,  0.7923,  3.4526,  2.0055,  2.7136,\n",
      "          2.3491, -1.9514, -1.0442,  1.5848, -2.2311, -2.6562, -3.5282, -3.7273,\n",
      "          0.4458,  2.7178,  1.4318, -2.7787,  2.0581, -0.0301, -0.5545, -1.0392,\n",
      "         -2.5840,  1.5681,  1.9968,  1.0907,  0.0067,  0.9171],\n",
      "        [-3.8657, -3.5332, -4.0166, -3.0810, -2.9262,  2.0407,  3.1799,  2.9968,\n",
      "         -1.7156, -1.0611,  3.9602,  2.1047,  3.2713, -1.0778,  1.3896,  3.4878,\n",
      "         -3.4449,  2.9560, -3.9711, -2.5552, -0.4875,  0.1518,  1.0444, -3.2225,\n",
      "          1.9471,  4.5283,  0.9262, -2.3400,  3.4359, -2.8297],\n",
      "        [-2.4045, -3.7765, -2.4928,  1.2101,  2.4094,  3.6417, -3.5239,  0.1940,\n",
      "          1.1932,  3.1348,  1.3922,  0.9476, -3.2154,  3.7681, -4.3625,  0.3780,\n",
      "          3.1841, -2.1140,  1.6898, -1.9161, -0.5760,  1.8828, -1.6072,  3.7448,\n",
      "          0.1082, -3.0442, -3.6235,  4.3513, -2.0027,  0.5100],\n",
      "        [ 0.7543, -2.2962, -0.4367,  2.8391,  1.0226, -2.4818, -3.5329,  0.5675,\n",
      "         -0.6794,  1.0493,  0.6657,  3.7970, -0.6502,  0.4482,  3.8244,  3.6959,\n",
      "         -1.6942,  0.8380,  2.1418,  2.9489, -1.0544, -2.9621, -0.1832,  1.5394,\n",
      "         -1.9685,  1.8734, -2.3437, -1.2325,  1.4835,  1.8499],\n",
      "        [-2.6627,  2.0348, -1.6536, -2.0234,  1.4312,  0.4485,  3.7454,  4.0681,\n",
      "         -0.7556, -1.9381,  2.9532,  3.7456,  2.6022, -1.1177, -0.0434,  2.6991,\n",
      "         -0.6976,  1.7660, -0.8774,  1.2970, -2.9213,  2.6080, -0.9739, -1.4611,\n",
      "         -3.7406,  0.5595,  2.8422,  0.7598, -2.3672, -2.8015],\n",
      "        [ 1.1797,  3.0973,  2.4261, -2.6499, -1.2773,  1.4805,  3.0512, -4.2525,\n",
      "          0.7787, -0.2161, -2.9155, -3.5833,  2.2417, -2.2868, -3.6338, -4.0694,\n",
      "          3.8653, -0.8062, -2.0633, -0.7427,  2.0084,  3.3486,  3.3342, -1.9776,\n",
      "          2.4778, -3.6420,  4.5506, -3.6893, -2.4913,  1.9916]])), ('fc1.bias', tensor([ 1.5526, -2.4269, -0.2132, -0.7389, -0.3658,  0.0942,  0.4688, -0.9795,\n",
      "        -1.2918,  1.2314])), ('fc2.weight', tensor([[-2.6476,  1.7993, -2.4187,  1.6149,  2.4357,  2.6237, -2.5854, -1.9601,\n",
      "          2.5720,  1.8232]])), ('fc2.bias', tensor([-0.4954]))])\n"
     ]
    }
   ],
   "source": [
    "remote_model2_updates = remote_model2.get(\n",
    "    request_block=True\n",
    ").state_dict()\n",
    "\n",
    "print(remote_model2_updates)"
   ]
  },
  {
   "cell_type": "markdown",
   "id": "4670cb3d",
   "metadata": {},
   "source": [
    "## 对模型参数进行平均"
   ]
  },
  {
   "cell_type": "code",
   "execution_count": 27,
   "id": "personalized-measure",
   "metadata": {},
   "outputs": [],
   "source": [
    "from collections import OrderedDict"
   ]
  },
  {
   "cell_type": "code",
   "execution_count": 28,
   "id": "experimental-pulse",
   "metadata": {},
   "outputs": [
    {
     "name": "stdout",
     "output_type": "stream",
     "text": [
      "OrderedDict([('fc1.weight', tensor([[-0.3738,  0.8023, -1.0190, -2.4035,  1.8510, -0.3301, -1.6341, -4.6066,\n",
      "          3.6789, -1.4557, -1.8449,  2.0288, -1.6612,  1.1051, -2.6890,  3.6812,\n",
      "          2.9798, -3.6970,  0.3491, -1.3519,  0.0306,  3.6035,  1.9721,  1.7233,\n",
      "         -0.4370,  2.9445,  3.7845,  1.2177, -0.1423, -0.3325],\n",
      "        [ 0.1635,  1.5695,  0.7709,  1.4608,  3.3360, -3.4342, -0.6076,  1.3151,\n",
      "          0.8761,  1.5416,  2.0509,  0.4307,  0.0432, -1.3788,  0.0197, -0.7107,\n",
      "         -3.9339, -4.8182, -1.4367,  3.8283, -0.1833, -1.3352,  1.8566, -0.2465,\n",
      "         -0.7956, -1.4820, -0.2553, -3.6357,  0.2169,  4.5937],\n",
      "        [-1.5467,  1.3273, -2.8086,  1.4984, -4.2780, -2.5621,  0.7108,  1.8368,\n",
      "         -3.3028,  3.5099,  2.7919, -2.2999, -3.2147, -0.6264,  3.1846,  5.1697,\n",
      "         -3.2398,  2.3969,  2.0602, -3.6096,  3.0319,  0.9957, -0.6172,  3.4393,\n",
      "          0.6916,  4.3052, -1.6327,  4.3415, -1.9567, -2.9493],\n",
      "        [ 3.1082, -0.8778,  3.0509,  0.9056,  3.3527, -0.2602,  0.1983,  0.3191,\n",
      "          0.7334,  1.3714, -1.4432,  2.9474,  0.2724, -1.9947, -1.6689, -1.4447,\n",
      "         -1.5639, -0.2962, -0.8208,  3.4097,  0.7071, -1.2599,  0.5869, -1.2713,\n",
      "         -0.8187, -2.4950, -2.3184, -4.1651,  0.3904,  2.2656],\n",
      "        [ 2.4067,  1.7228,  2.0151, -3.1229,  0.7526,  3.4385,  2.0868,  2.8757,\n",
      "          2.8732, -2.2145, -1.1663,  1.7061, -2.4605, -2.7630, -3.8021, -3.9433,\n",
      "          0.4199,  2.8843,  1.5543, -2.9659,  2.3223, -0.0291, -0.5439, -1.0915,\n",
      "         -2.5711,  1.4677,  2.1439,  1.1331,  0.1132,  1.1892],\n",
      "        [-4.1945, -3.9408, -4.3894, -3.2998, -3.2220,  1.8565,  3.7176,  3.4408,\n",
      "         -1.9099, -0.9650,  4.2017,  2.1396,  3.3968, -1.0004,  1.4450,  3.9203,\n",
      "         -3.4370,  3.0016, -4.2918, -2.6209, -0.6926,  0.2854,  1.0955, -3.4258,\n",
      "          2.0495,  4.7643,  0.9100, -2.3792,  3.7349, -3.0885],\n",
      "        [-2.6270, -4.0758, -2.6274,  1.6464,  2.1257,  4.2197, -3.7998,  0.7095,\n",
      "          1.5275,  3.2533,  1.1701,  1.3727, -4.0164,  3.9801, -4.6439,  0.5720,\n",
      "          3.2783, -2.6374,  1.6641, -1.7941, -0.3395,  1.9623, -2.1410,  4.0860,\n",
      "          0.2778, -3.5748, -3.7322,  4.7969, -2.2922,  0.3883],\n",
      "        [ 1.0110, -2.5296, -0.3250,  3.1259,  1.4315, -2.4822, -3.7662,  0.5367,\n",
      "         -0.7639,  0.8756,  0.6112,  4.2723, -0.5881,  0.4233,  4.0613,  3.9460,\n",
      "         -1.6494,  0.8259,  2.3118,  3.2165, -1.2999, -3.3080, -0.0949,  1.6095,\n",
      "         -2.2304,  1.8030, -2.5064, -1.7150,  1.7524,  2.2137],\n",
      "        [-2.9618,  2.0952, -1.8803, -2.1110,  1.4510,  0.5924,  3.9868,  4.3532,\n",
      "         -0.8387, -1.9318,  3.0838,  3.9114,  3.0749, -0.9182,  0.0660,  2.8438,\n",
      "         -0.6015,  1.9000, -1.0973,  0.9898, -3.3605,  2.9768, -1.0816, -1.7253,\n",
      "         -3.9560,  0.7507,  3.1179,  0.9416, -2.6576, -3.0494],\n",
      "        [ 1.0350,  3.1948,  2.4850, -2.7738, -1.3148,  1.2453,  3.3955, -4.5970,\n",
      "          0.6733, -0.0870, -3.2980, -3.7692,  2.8787, -2.5609, -3.8782, -4.3231,\n",
      "          4.3176, -0.9396, -2.1705, -0.6870,  1.9990,  3.5599,  3.8310, -2.2128,\n",
      "          2.3215, -3.9043,  5.0819, -3.7908, -2.4686,  2.1013]])), ('fc1.bias', tensor([ 1.8434, -2.7893, -0.2131, -0.6442, -0.0866,  0.1143,  0.5120, -1.0764,\n",
      "        -1.4930,  1.4801])), ('fc2.weight', tensor([[-3.0053,  2.0768, -2.7615,  1.8748,  2.6820,  2.9083, -2.8329, -2.1695,\n",
      "          2.8080,  1.9978]])), ('fc2.bias', tensor([-0.5412]))])\n"
     ]
    }
   ],
   "source": [
    "avg_updates = OrderedDict()\n",
    "avg_updates[\"fc1.weight\"] = (\n",
    "    remote_model1_updates[\"fc1.weight\"] + remote_model2_updates[\"fc1.weight\"]\n",
    ") / 2\n",
    "avg_updates[\"fc1.bias\"] = (\n",
    "    remote_model1_updates[\"fc1.bias\"] + remote_model2_updates[\"fc1.bias\"]\n",
    ") / 2\n",
    "avg_updates[\"fc2.weight\"] = (\n",
    "    remote_model1_updates[\"fc2.weight\"] + remote_model2_updates[\"fc2.weight\"]\n",
    ") / 2\n",
    "avg_updates[\"fc2.bias\"] = (\n",
    "    remote_model1_updates[\"fc2.bias\"] + remote_model2_updates[\"fc2.bias\"]\n",
    ") / 2\n",
    "\n",
    "print(avg_updates)"
   ]
  },
  {
   "cell_type": "markdown",
   "id": "approximate-scotland",
   "metadata": {},
   "source": [
    "## 更新模型参数"
   ]
  },
  {
   "cell_type": "code",
   "execution_count": 29,
   "id": "hungarian-chess",
   "metadata": {},
   "outputs": [],
   "source": [
    "combined_model = SyNet(torch)"
   ]
  },
  {
   "cell_type": "code",
   "execution_count": 30,
   "id": "exempt-gathering",
   "metadata": {},
   "outputs": [],
   "source": [
    "combined_model.load_state_dict(avg_updates)"
   ]
  },
  {
   "cell_type": "code",
   "execution_count": 31,
   "id": "beautiful-coating",
   "metadata": {},
   "outputs": [],
   "source": [
    "del avg_updates, remote_model1_updates, remote_model2_updates"
   ]
  },
  {
   "cell_type": "markdown",
   "id": "a0532a33",
   "metadata": {},
   "source": [
    "## 模型评估"
   ]
  },
  {
   "cell_type": "code",
   "execution_count": 34,
   "id": "c1946158",
   "metadata": {},
   "outputs": [],
   "source": [
    "#加载测试集\n",
    "import pandas as pd\n",
    "import numpy as np\n",
    "datasets = pd.read_csv('./breast_eval.csv')\n",
    "X_train = datasets.loc[:, datasets.columns != \"y\"]\n",
    "X_train=X_train.loc[:,X_train.columns!=\"idx\"]\n",
    "y_train = datasets[\"y\"]\n",
    "\n",
    "test_data=torch.tensor(np.array(X_train),dtype=torch.float32)\n",
    "test_target=torch.tensor(np.array(y_train),dtype=torch.float32)\n",
    "test_target= test_target.view(test_target.shape[0],1)"
   ]
  },
  {
   "cell_type": "markdown",
   "id": "4237c5ac",
   "metadata": {},
   "source": [
    "## 测试初始模型"
   ]
  },
  {
   "cell_type": "code",
   "execution_count": 39,
   "id": "assured-amount",
   "metadata": {},
   "outputs": [
    {
     "name": "stdout",
     "output_type": "stream",
     "text": [
      "预测准确率: 39.0%\n"
     ]
    }
   ],
   "source": [
    "from sklearn.metrics import roc_curve, roc_auc_score\n",
    "preds = []\n",
    "with torch.no_grad():\n",
    "    for i in range(len(test_data)):\n",
    "        sample = test_data[i]\n",
    "        y_hat = local_model(sample)\n",
    "#         print(f\"Prediction: {y_hat.item()} Ground Truth: {test_target[i].item()}\")\n",
    "        preds.append(y_hat)\n",
    "    a=torch.tensor([1.],dtype=torch.float32)\n",
    "    b=torch.tensor([0.],dtype=torch.float32)\n",
    "    y_hat=torch.where(y_hat>0.5,a,b)\n",
    "    print(f\"预测准确率: {(torch.sum(y_hat == test_target)/torch.tensor(test_target.size()[0],dtype=torch.float32)) * 100}%\")"
   ]
  },
  {
   "cell_type": "markdown",
   "id": "6c373f3a",
   "metadata": {},
   "source": [
    "## 测试更新的全局模型"
   ]
  },
  {
   "cell_type": "code",
   "execution_count": 40,
   "id": "charged-dragon",
   "metadata": {},
   "outputs": [
    {
     "name": "stdout",
     "output_type": "stream",
     "text": [
      "Prediction: 0.9608038067817688 Ground Truth: 0.0\n",
      "Prediction: 0.22233587503433228 Ground Truth: 0.0\n",
      "Prediction: 0.7140563130378723 Ground Truth: 1.0\n",
      "Prediction: 0.20813186466693878 Ground Truth: 0.0\n",
      "Prediction: 0.574439287185669 Ground Truth: 1.0\n",
      "Prediction: 0.29305562376976013 Ground Truth: 0.0\n",
      "Prediction: 0.7404622435569763 Ground Truth: 1.0\n",
      "Prediction: 0.49986031651496887 Ground Truth: 0.0\n",
      "Prediction: 0.17904017865657806 Ground Truth: 1.0\n",
      "Prediction: 0.9131640195846558 Ground Truth: 1.0\n",
      "Prediction: 0.0064794691279530525 Ground Truth: 0.0\n",
      "Prediction: 0.4520314037799835 Ground Truth: 0.0\n",
      "Prediction: 0.2692161500453949 Ground Truth: 0.0\n",
      "Prediction: 0.4681169390678406 Ground Truth: 1.0\n",
      "Prediction: 0.23646485805511475 Ground Truth: 0.0\n",
      "Prediction: 0.14534378051757812 Ground Truth: 1.0\n",
      "Prediction: 0.7476869821548462 Ground Truth: 0.0\n",
      "Prediction: 0.8671352863311768 Ground Truth: 0.0\n",
      "Prediction: 0.7654181718826294 Ground Truth: 1.0\n",
      "Prediction: 0.9981784820556641 Ground Truth: 0.0\n",
      "Prediction: 0.2701599597930908 Ground Truth: 1.0\n",
      "Prediction: 0.47375214099884033 Ground Truth: 1.0\n",
      "Prediction: 0.5070376992225647 Ground Truth: 1.0\n",
      "Prediction: 0.8400953412055969 Ground Truth: 0.0\n",
      "Prediction: 0.6311114430427551 Ground Truth: 1.0\n",
      "Prediction: 0.5014623403549194 Ground Truth: 1.0\n",
      "Prediction: 0.2920386791229248 Ground Truth: 1.0\n",
      "Prediction: 0.9702503681182861 Ground Truth: 0.0\n",
      "Prediction: 0.9904639720916748 Ground Truth: 1.0\n",
      "Prediction: 0.5128664970397949 Ground Truth: 1.0\n",
      "Prediction: 0.7802121043205261 Ground Truth: 1.0\n",
      "Prediction: 0.6963061690330505 Ground Truth: 0.0\n",
      "Prediction: 0.7300797700881958 Ground Truth: 1.0\n",
      "Prediction: 0.9634503722190857 Ground Truth: 0.0\n",
      "Prediction: 0.911861002445221 Ground Truth: 0.0\n",
      "Prediction: 0.9342275857925415 Ground Truth: 1.0\n",
      "Prediction: 0.5537402033805847 Ground Truth: 1.0\n",
      "Prediction: 0.8927507400512695 Ground Truth: 1.0\n",
      "Prediction: 0.9093667268753052 Ground Truth: 1.0\n",
      "Prediction: 0.735414981842041 Ground Truth: 1.0\n",
      "Prediction: 0.882402241230011 Ground Truth: 1.0\n",
      "Prediction: 0.7712417840957642 Ground Truth: 1.0\n",
      "Prediction: 0.6012662649154663 Ground Truth: 1.0\n",
      "Prediction: 0.05541199445724487 Ground Truth: 1.0\n",
      "Prediction: 0.9612005949020386 Ground Truth: 0.0\n",
      "Prediction: 0.8582438230514526 Ground Truth: 0.0\n",
      "Prediction: 0.9050984382629395 Ground Truth: 1.0\n",
      "Prediction: 0.3647820055484772 Ground Truth: 0.0\n",
      "Prediction: 0.23783041536808014 Ground Truth: 0.0\n",
      "Prediction: 0.8644769191741943 Ground Truth: 0.0\n",
      "Prediction: 0.9988641738891602 Ground Truth: 0.0\n",
      "Prediction: 0.9542886018753052 Ground Truth: 1.0\n",
      "Prediction: 0.4433979094028473 Ground Truth: 1.0\n",
      "Prediction: 0.9397234916687012 Ground Truth: 0.0\n",
      "Prediction: 0.9196993112564087 Ground Truth: 0.0\n",
      "Prediction: 0.9548347592353821 Ground Truth: 0.0\n",
      "Prediction: 0.6528244614601135 Ground Truth: 0.0\n",
      "Prediction: 0.6616311073303223 Ground Truth: 0.0\n",
      "Prediction: 0.8988091349601746 Ground Truth: 0.0\n",
      "Prediction: 0.13056454062461853 Ground Truth: 1.0\n",
      "Prediction: 0.050620969384908676 Ground Truth: 0.0\n",
      "Prediction: 0.5437100529670715 Ground Truth: 0.0\n",
      "Prediction: 0.9738702774047852 Ground Truth: 1.0\n",
      "Prediction: 0.008688594214618206 Ground Truth: 1.0\n",
      "Prediction: 0.41531774401664734 Ground Truth: 1.0\n",
      "Prediction: 0.056680768728256226 Ground Truth: 1.0\n",
      "Prediction: 0.973893940448761 Ground Truth: 0.0\n",
      "Prediction: 0.90230393409729 Ground Truth: 1.0\n",
      "Prediction: 0.25228679180145264 Ground Truth: 1.0\n",
      "Prediction: 0.9383613467216492 Ground Truth: 1.0\n",
      "Prediction: 0.6237916946411133 Ground Truth: 0.0\n",
      "Prediction: 0.9864018559455872 Ground Truth: 0.0\n",
      "Prediction: 0.653197705745697 Ground Truth: 1.0\n",
      "Prediction: 0.005115056410431862 Ground Truth: 1.0\n",
      "Prediction: 0.4188629686832428 Ground Truth: 1.0\n",
      "Prediction: 0.36730659008026123 Ground Truth: 1.0\n",
      "Prediction: 0.9001264572143555 Ground Truth: 1.0\n",
      "Prediction: 0.9183918833732605 Ground Truth: 1.0\n",
      "Prediction: 0.6209887862205505 Ground Truth: 1.0\n",
      "Prediction: 0.9983876943588257 Ground Truth: 1.0\n",
      "Prediction: 0.21011963486671448 Ground Truth: 0.0\n",
      "Prediction: 0.5946182012557983 Ground Truth: 1.0\n",
      "Prediction: 0.9827741384506226 Ground Truth: 1.0\n",
      "Prediction: 0.11416631191968918 Ground Truth: 0.0\n",
      "Prediction: 0.4382667541503906 Ground Truth: 1.0\n",
      "Prediction: 0.5606291890144348 Ground Truth: 1.0\n",
      "Prediction: 0.06223932281136513 Ground Truth: 1.0\n",
      "Prediction: 0.04817095398902893 Ground Truth: 1.0\n",
      "Prediction: 0.9935235977172852 Ground Truth: 1.0\n",
      "Prediction: 0.5628456473350525 Ground Truth: 1.0\n",
      "Prediction: 0.09029880911111832 Ground Truth: 1.0\n",
      "Prediction: 0.7716172933578491 Ground Truth: 1.0\n",
      "Prediction: 0.99395352602005 Ground Truth: 1.0\n",
      "Prediction: 0.8955177664756775 Ground Truth: 1.0\n",
      "Prediction: 0.7326177358627319 Ground Truth: 1.0\n",
      "Prediction: 0.8003640174865723 Ground Truth: 0.0\n",
      "Prediction: 0.5573437213897705 Ground Truth: 1.0\n",
      "Prediction: 0.16812728345394135 Ground Truth: 0.0\n",
      "Prediction: 0.20413395762443542 Ground Truth: 1.0\n",
      "Prediction: 0.8196712136268616 Ground Truth: 0.0\n",
      "预测准确率: 61.0%\n"
     ]
    }
   ],
   "source": [
    "preds = []\n",
    "with torch.no_grad():\n",
    "    for i in range(len(test_data)):\n",
    "        sample = test_data[i]\n",
    "        y_hat = combined_model(sample)\n",
    "\n",
    "        print(f\"Prediction: {y_hat.item()} Ground Truth: {test_target[i].item()}\")\n",
    "        preds.append(y_hat)\n",
    "    a=torch.tensor([1.],dtype=torch.float32)\n",
    "    b=torch.tensor([0.],dtype=torch.float32)\n",
    "    y_hat=torch.where(y_hat>0.5,a,b)\n",
    "    print(f\"预测准确率: {(torch.sum(y_hat == test_target)/torch.tensor(test_target.size()[0],dtype=torch.float32)) *100}%\") "
   ]
  },
  {
   "cell_type": "code",
   "execution_count": null,
   "id": "0b011171",
   "metadata": {},
   "outputs": [],
   "source": []
  }
 ],
 "metadata": {
  "kernelspec": {
   "display_name": "Python 3 (ipykernel)",
   "language": "python",
   "name": "python3"
  },
  "language_info": {
   "codemirror_mode": {
    "name": "ipython",
    "version": 3
   },
   "file_extension": ".py",
   "mimetype": "text/x-python",
   "name": "python",
   "nbconvert_exporter": "python",
   "pygments_lexer": "ipython3",
   "version": "3.9.13"
  }
 },
 "nbformat": 4,
 "nbformat_minor": 5
}
